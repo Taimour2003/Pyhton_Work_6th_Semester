{
 "cells": [
  {
   "cell_type": "code",
   "execution_count": null,
   "id": "b85eb5d0-b492-4b7c-b058-131959bba478",
   "metadata": {},
   "outputs": [],
   "source": [
    "task_2"
   ]
  },
  {
   "cell_type": "code",
   "execution_count": 3,
   "id": "71229dd0-a122-4050-897b-a5b544c648cb",
   "metadata": {},
   "outputs": [
    {
     "name": "stdout",
     "output_type": "stream",
     "text": [
      "✅ Proven: Colonel West is a criminal.\n",
      "Substitution result: {v_0: West, v_10: M1, v_1: M1, v_2: Nono, v_24: Nono}\n"
     ]
    }
   ],
   "source": [
    "from logic import FolKB, expr\n",
    "\n",
    "kb = FolKB()\n",
    "\n",
    "# Predicate definitions\n",
    "American = lambda x: expr(f'American({x})')\n",
    "Weapon = lambda x: expr(f'Weapon({x})')\n",
    "Missile = lambda x: expr(f'Missile({x})')\n",
    "Owns = lambda x, y: expr(f'Owns({x}, {y})')\n",
    "Enemy = lambda x, y: expr(f'Enemy({x}, {y})')\n",
    "Hostile = lambda x: expr(f'Hostile({x})')\n",
    "Sells = lambda x, y, z: expr(f'Sells({x}, {y}, {z})')\n",
    "Criminal = lambda x: expr(f'Criminal({x})')\n",
    "\n",
    "# Tell the KB all known facts and rules\n",
    "kb.tell(expr('American(x) & Weapon(y) & Sells(x, y, z) & Hostile(z) ==> Criminal(x)'))\n",
    "kb.tell(expr('Missile(x) ==> Weapon(x)'))\n",
    "kb.tell(expr('Owns(Nono, M1)'))\n",
    "kb.tell(expr('Missile(M1)'))\n",
    "kb.tell(expr('American(West)'))\n",
    "kb.tell(expr('Enemy(Nono, America)'))\n",
    "kb.tell(expr('Enemy(x, America) ==> Hostile(x)'))\n",
    "kb.tell(expr('Sells(West, M1, Nono)'))\n",
    "\n",
    "# Define the goal\n",
    "goal = expr('Criminal(West)')\n",
    "\n",
    "# Try to ask if the goal is entailed\n",
    "result = kb.ask(goal)\n",
    "\n",
    "# Output the result\n",
    "if result:\n",
    "    print(\"✅ Proven: Colonel West is a criminal.\")\n",
    "    print(\"Substitution result:\", result)\n",
    "else:\n",
    "    print(\"❌ Cannot prove that Colonel West is a criminal.\")\n"
   ]
  },
  {
   "cell_type": "code",
   "execution_count": null,
   "id": "a5741e3e-ac1a-4754-a8f4-b849cde69fe4",
   "metadata": {},
   "outputs": [],
   "source": [
    "Task_3"
   ]
  },
  {
   "cell_type": "code",
   "execution_count": 23,
   "id": "3186de70-6302-4a9c-9a05-7347ee93b973",
   "metadata": {},
   "outputs": [
    {
     "name": "stdout",
     "output_type": "stream",
     "text": [
      "Is John a King? True\n",
      "Is Richard a Person? True\n",
      "Is John a Person (from being a King)? True\n",
      "Is John Evil? True\n"
     ]
    }
   ],
   "source": [
    "from logic import FolKB, expr\n",
    "\n",
    "# Create a new first-order logic knowledge base\n",
    "kb = FolKB()\n",
    "\n",
    "# Rule: All greedy kings are evil\n",
    "kb.tell(expr('King(x) & Greedy(x) ==> Evil(x)'))\n",
    "\n",
    "# Rule: All kings are persons\n",
    "kb.tell(expr('King(x) ==> Person(x)'))\n",
    "\n",
    "# Add facts about John and Richard\n",
    "kb.tell(expr('King(John)'))\n",
    "kb.tell(expr('Greedy(John)'))\n",
    "kb.tell(expr('King(Richard)'))\n",
    "\n",
    "# Queries:\n",
    "\n",
    "# Is John a King?\n",
    "john_is_king = kb.ask(expr('King(John)'))\n",
    "print(\"Is John a King?\", john_is_king is not False)\n",
    "\n",
    "# Is Richard a Person?\n",
    "richard_is_person = kb.ask(expr('Person(Richard)'))\n",
    "print(\"Is Richard a Person?\", richard_is_person is not False)\n",
    "\n",
    "# Is John a Person (from being a King)?\n",
    "john_is_person = kb.ask(expr('Person(John)'))\n",
    "print(\"Is John a Person (from being a King)?\", john_is_person is not False)\n",
    "\n",
    "# Is John Evil? (inferred from King & Greedy ⇒ Evil)\n",
    "john_is_evil = kb.ask(expr('Evil(John)'))\n",
    "print(\"Is John Evil?\", john_is_evil is not False)\n"
   ]
  },
  {
   "cell_type": "code",
   "execution_count": null,
   "id": "f19d161a-a079-409a-91cf-409c4a3c3b5f",
   "metadata": {},
   "outputs": [],
   "source": [
    "Task_1"
   ]
  },
  {
   "cell_type": "code",
   "execution_count": 17,
   "id": "02f6554c-e4c4-482b-b489-ce63392e7b9a",
   "metadata": {},
   "outputs": [
    {
     "name": "stdout",
     "output_type": "stream",
     "text": [
      "✅ Proven: C is entailed by the KB (KB ⊨ C).\n"
     ]
    }
   ],
   "source": [
    "from logic import expr, PropKB, pl_resolution\n",
    "\n",
    "# Create a proper propositional logic KB\n",
    "kb = PropKB()\n",
    "\n",
    "# Tell the KB the clauses (these are already in CNF form)\n",
    "kb.tell(expr('B | A'))\n",
    "kb.tell(expr('~A | C'))\n",
    "kb.tell(expr('C | ~B'))\n",
    "\n",
    "# Define the goal to prove: C\n",
    "alpha = expr('C')\n",
    "\n",
    "# Use resolution to check entailment\n",
    "result = pl_resolution(kb, alpha)\n",
    "\n",
    "# Output result\n",
    "if result:\n",
    "    print(\"✅ Proven: C is entailed by the KB (KB ⊨ C).\")\n",
    "else:\n",
    "    print(\"❌ C is NOT entailed by the KB.\")\n"
   ]
  },
  {
   "cell_type": "code",
   "execution_count": null,
   "id": "5a88c8f9-73ca-4046-8953-5345281b89d3",
   "metadata": {},
   "outputs": [],
   "source": []
  }
 ],
 "metadata": {
  "kernelspec": {
   "display_name": "Python 3 (ipykernel)",
   "language": "python",
   "name": "python3"
  },
  "language_info": {
   "codemirror_mode": {
    "name": "ipython",
    "version": 3
   },
   "file_extension": ".py",
   "mimetype": "text/x-python",
   "name": "python",
   "nbconvert_exporter": "python",
   "pygments_lexer": "ipython3",
   "version": "3.12.4"
  }
 },
 "nbformat": 4,
 "nbformat_minor": 5
}
