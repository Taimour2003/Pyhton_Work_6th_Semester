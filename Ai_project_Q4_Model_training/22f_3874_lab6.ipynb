{
 "cells": [
  {
   "cell_type": "code",
   "execution_count": 78,
   "id": "de4184e0-dc6f-496d-93b5-976d8449df5b",
   "metadata": {},
   "outputs": [
    {
     "name": "stdout",
     "output_type": "stream",
     "text": [
      "Reached a peak (local maximum)!\n",
      "Path: [(5, 0), (4, 0), (3, 0), (2, 0), (1, 0), (1, 1)]\n"
     ]
    }
   ],
   "source": [
    "import numpy as np\n",
    "\n",
    "maze = np.array([\n",
    "    [1, 1, 0, 1, 0, 0], \n",
    "    [0, 0, 1, 0, 1, 0], \n",
    "    [0, 0, 1, 0, 0, 0], \n",
    "    [0, 0, 0, 1, 0, 0], \n",
    "    [0, 1, 0, 1, 1, 1], \n",
    "    [0, 1, 1, 0, 0, 0]\n",
    "])\n",
    "\n",
    "start = (5, 0)  # A\n",
    "goal = (0, 5)   # Y\n",
    "\n",
    "moves = [(-1, 0), (1, 0), (0, -1), (0, 1)]\n",
    "\n",
    "def heuristic(pos):\n",
    "    return abs(goal[0] - pos[0]) + abs(goal[1] - pos[1])\n",
    "\n",
    "def hill_climb(maze, start, goal):\n",
    "    current = start\n",
    "    path = [current]\n",
    "\n",
    "    while current != goal:\n",
    "        neighbors = []\n",
    "        \n",
    "        for move in moves:\n",
    "            new_pos = (current[0] + move[0], current[1] + move[1])\n",
    "            if 0 <= new_pos[0] < maze.shape[0] and 0 <= new_pos[1] < maze.shape[1]:\n",
    "                if maze[new_pos] == 0:\n",
    "                    neighbors.append(new_pos)\n",
    "        \n",
    "        if not neighbors:\n",
    "            print(\"Stuck at local maximum!\")\n",
    "            return path\n",
    "        \n",
    "        best_neighbor = min(neighbors, key=heuristic)\n",
    "        \n",
    "        if heuristic(best_neighbor) >= heuristic(current):\n",
    "            print(\"Reached a peak (local maximum)!\")\n",
    "            return path\n",
    "        \n",
    "        current = best_neighbor\n",
    "        path.append(current)\n",
    "\n",
    "    print(\"Goal reached!\")\n",
    "    return path\n",
    "\n",
    "solution_path = hill_climb(maze, start, goal)\n",
    "print(\"Path:\", solution_path)\n",
    "print(\"Time Complexity is n*b:\")"
   ]
  },
  {
   "cell_type": "code",
   "execution_count": 62,
   "id": "5a047e67-f6a3-425e-8fc2-e4aca490c5b1",
   "metadata": {},
   "outputs": [
    {
     "name": "stdout",
     "output_type": "stream",
     "text": [
      "Best Route: ['Peshawar', 'Islamabad', 'Lahore', 'Faisalabad', 'Quetta', 'Karachi']\n",
      "Minimum Distance Cost (One-Way): 16.82462869254753\n"
     ]
    }
   ],
   "source": [
    "import random\n",
    "import math\n",
    "\n",
    "# Define the graph (cities and their neighbors)\n",
    "graph = {\n",
    "    'Islamabad': ['Peshawar', 'Lahore', 'Karachi', 'Quetta', 'Faisalabad'],\n",
    "    'Peshawar': ['Islamabad', 'Lahore', 'Karachi', 'Quetta', 'Faisalabad'],\n",
    "    'Lahore': ['Islamabad', 'Peshawar', 'Karachi', 'Quetta', 'Faisalabad'],\n",
    "    'Karachi': ['Islamabad', 'Peshawar', 'Lahore', 'Quetta', 'Faisalabad'],\n",
    "    'Quetta': ['Islamabad', 'Peshawar', 'Lahore', 'Karachi', 'Faisalabad'],\n",
    "    'Faisalabad': ['Islamabad', 'Peshawar', 'Lahore', 'Karachi', 'Quetta']\n",
    "}\n",
    "\n",
    "# Latitude and longitude of cities\n",
    "values = {\n",
    "    'Islamabad': [33.73, 73.08],\n",
    "    'Peshawar': [34.02, 71.56],\n",
    "    'Lahore': [31.58, 74.32],\n",
    "    'Karachi': [24.85, 67.00],\n",
    "    'Quetta': [30.18, 66.99],\n",
    "    'Faisalabad': [31.34, 73.42]\n",
    "}\n",
    "\n",
    "# Function to calculate the Euclidean distance between two cities\n",
    "def distance(city1, city2):\n",
    "    lat1, lon1 = values[city1]\n",
    "    lat2, lon2 = values[city2]\n",
    "    return math.sqrt((lat2 - lat1)**2 + (lon2 - lon1)**2)\n",
    "\n",
    "# Function to calculate the total cost (distance) of a travel route\n",
    "def total_distance(route):\n",
    "    return sum(distance(route[i], route[i+1]) for i in range(len(route)-1)) + distance(route[-1], route[0])\n",
    "\n",
    "# Simulated Annealing Algorithm\n",
    "def simulated_annealing(cities, initial_temp=10000, cooling_rate=0.995, min_temp=1):\n",
    "    current_solution = random.sample(cities, len(cities))  # Random initial route\n",
    "    current_cost = total_distance(current_solution)\n",
    "    temp = initial_temp\n",
    "\n",
    "    while temp > min_temp:\n",
    "        # Generate a new solution by swapping two cities\n",
    "        new_solution = current_solution[:]\n",
    "        i, j = random.sample(range(len(cities)), 2)\n",
    "        new_solution[i], new_solution[j] = new_solution[j], new_solution[i]\n",
    "        \n",
    "        new_cost = total_distance(new_solution)\n",
    "\n",
    "        # Accept new solution if it's better or based on probability\n",
    "        if new_cost < current_cost or random.uniform(0, 1) < math.exp((current_cost - new_cost) / temp):\n",
    "            current_solution, current_cost = new_solution, new_cost\n",
    "        \n",
    "        # Reduce the temperature\n",
    "        temp *= cooling_rate\n",
    "\n",
    "    return current_solution, current_cost\n",
    "\n",
    "# Run Simulated Annealing\n",
    "cities = list(values.keys())\n",
    "best_route, best_cost = simulated_annealing(cities)\n",
    "\n",
    "# Print results\n",
    "print(\"Best Route:\", best_route)\n",
    "print(\"Minimum Distance Cost:\", best_cost)\n"
   ]
  },
  {
   "cell_type": "code",
   "execution_count": null,
   "id": "926138f4-4f07-4c9a-8077-aa353f048b59",
   "metadata": {},
   "outputs": [],
   "source": []
  },
  {
   "cell_type": "code",
   "execution_count": null,
   "id": "05b3d256-0002-43d1-b3e9-7b3483a6b88c",
   "metadata": {},
   "outputs": [],
   "source": []
  },
  {
   "cell_type": "code",
   "execution_count": null,
   "id": "26d8d367-7e36-4a9a-9499-bcac30583f04",
   "metadata": {},
   "outputs": [],
   "source": []
  }
 ],
 "metadata": {
  "kernelspec": {
   "display_name": "Python 3 (ipykernel)",
   "language": "python",
   "name": "python3"
  },
  "language_info": {
   "codemirror_mode": {
    "name": "ipython",
    "version": 3
   },
   "file_extension": ".py",
   "mimetype": "text/x-python",
   "name": "python",
   "nbconvert_exporter": "python",
   "pygments_lexer": "ipython3",
   "version": "3.12.4"
  }
 },
 "nbformat": 4,
 "nbformat_minor": 5
}
