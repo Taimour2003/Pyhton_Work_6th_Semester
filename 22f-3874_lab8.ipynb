{
 "cells": [
  {
   "cell_type": "code",
   "execution_count": 1,
   "id": "4d074bfd-c36c-453c-8c75-b369125740da",
   "metadata": {},
   "outputs": [
    {
     "name": "stdout",
     "output_type": "stream",
     "text": [
      "Map Coloring Solution: {'WA': 'Red', 'NT': 'Green', 'SA': 'Blue', 'Q': 'Red', 'NSW': 'Green', 'V': 'Red', 'T': 'Red'}\n"
     ]
    }
   ],
   "source": [
    "from collections import deque\n",
    "\n",
    "# Define the variables (States and Territories)\n",
    "states = [\"WA\", \"NT\", \"SA\", \"Q\", \"NSW\", \"V\", \"T\"]\n",
    "\n",
    "# Define the domains (Possible colors)\n",
    "domains = {state: [\"Red\", \"Green\", \"Blue\"] for state in states}\n",
    "\n",
    "# Define the constraints (Adjacency rules)\n",
    "adjacency = {\n",
    "    \"WA\": [\"NT\", \"SA\"],\n",
    "    \"NT\": [\"WA\", \"SA\", \"Q\"],\n",
    "    \"SA\": [\"WA\", \"NT\", \"Q\", \"NSW\", \"V\"],\n",
    "    \"Q\": [\"NT\", \"SA\", \"NSW\"],\n",
    "    \"NSW\": [\"Q\", \"SA\", \"V\"],\n",
    "    \"V\": [\"SA\", \"NSW\"],\n",
    "    \"T\": []  # Tasmania has no neighbors\n",
    "}\n",
    "\n",
    "# Function to check if assignment is valid\n",
    "def is_valid(state, color, assignment):\n",
    "    for neighbor in adjacency[state]:\n",
    "        if neighbor in assignment and assignment[neighbor] == color:\n",
    "            return False\n",
    "    return True\n",
    "\n",
    "# Backtracking algorithm\n",
    "def backtrack(assignment):\n",
    "    if len(assignment) == len(states):\n",
    "        return assignment\n",
    "    \n",
    "    unassigned = [s for s in states if s not in assignment]\n",
    "    state = unassigned[0]  # Select the next state to color\n",
    "    \n",
    "    for color in domains[state]:\n",
    "        if is_valid(state, color, assignment):\n",
    "            assignment[state] = color\n",
    "            result = backtrack(assignment)\n",
    "            if result:\n",
    "                return result\n",
    "            assignment.pop(state)  # Backtrack if no solution found\n",
    "    \n",
    "    return None\n",
    "\n",
    "# Solve the CSP\n",
    "solution = backtrack({})\n",
    "print(\"Map Coloring Solution:\", solution)\n"
   ]
  },
  {
   "cell_type": "code",
   "execution_count": 5,
   "id": "62cf5961-0a9c-4e7c-bcf5-e884a3ce58be",
   "metadata": {},
   "outputs": [
    {
     "name": "stdout",
     "output_type": "stream",
     "text": [
      "Solution: {'WA': 'red', 'NT': 'green', 'SA': 'blue', 'Q': 'red', 'NSW': 'green', 'V': 'red', 'T': 'red'}\n"
     ]
    }
   ],
   "source": [
    "from collections import defaultdict\n",
    "\n",
    "states = ['WA', 'NT', 'Q', 'NSW', 'V', 'SA', 'T']\n",
    "original_domains = {state: ['red', 'green', 'blue'] for state in states}\n",
    "neighbors = {\n",
    "    'WA': ['NT', 'SA'],\n",
    "    'NT': ['WA', 'Q', 'SA'],\n",
    "    'Q': ['NT', 'NSW', 'SA'],\n",
    "    'NSW': ['Q', 'V', 'SA'],\n",
    "    'V': ['NSW', 'SA'],\n",
    "    'SA': ['WA', 'NT', 'Q', 'NSW', 'V'],\n",
    "    'T': []\n",
    "}\n",
    "\n",
    "# Use a fresh copy for domains each time\n",
    "domains = {state: list(colors) for state, colors in original_domains.items()}\n",
    "\n",
    "def is_consistent(state, color, assignment):\n",
    "    for neighbor in neighbors[state]:\n",
    "        if neighbor in assignment and assignment[neighbor] == color:\n",
    "            return False\n",
    "    return True\n",
    "\n",
    "def mrv(assignment):\n",
    "    unassigned = [v for v in states if v not in assignment]\n",
    "    return min(unassigned, key=lambda var: len(domains[var]))\n",
    "\n",
    "def degree(var):\n",
    "    return len([n for n in neighbors[var] if n not in domains])\n",
    "\n",
    "def lcv(var):\n",
    "    return sorted(domains[var], key=lambda val: sum(\n",
    "        1 for neighbor in neighbors[var] if val in domains[neighbor]\n",
    "    ))\n",
    "\n",
    "def forward_check(assignment, var, value):\n",
    "    inferences = []\n",
    "    for neighbor in neighbors[var]:\n",
    "        if neighbor not in assignment and value in domains[neighbor]:\n",
    "            domains[neighbor].remove(value)\n",
    "            inferences.append((neighbor, value))\n",
    "            if not domains[neighbor]:\n",
    "                # If any neighbor runs out of legal values, stop and backtrack\n",
    "                for (n, val) in inferences:\n",
    "                    domains[n].append(val)\n",
    "                return False, []\n",
    "    return True, inferences\n",
    "\n",
    "def backtrack(assignment):\n",
    "    if len(assignment) == len(states):\n",
    "        return assignment\n",
    "    var = mrv(assignment)\n",
    "    for value in lcv(var):\n",
    "        if is_consistent(var, value, assignment):\n",
    "            assignment[var] = value\n",
    "            success, inferences = forward_check(assignment, var, value)\n",
    "            if success:\n",
    "                result = backtrack(assignment)\n",
    "                if result:\n",
    "                    return result\n",
    "            del assignment[var]\n",
    "            for (neighbor, val) in inferences:\n",
    "                domains[neighbor].append(val)\n",
    "    return None\n",
    "\n",
    "solution = backtrack({})\n",
    "print(\"Solution:\", solution)\n"
   ]
  },
  {
   "cell_type": "code",
   "execution_count": null,
   "id": "9c53aa3a-c92a-42b7-95ca-c70efa3011cc",
   "metadata": {},
   "outputs": [],
   "source": []
  },
  {
   "cell_type": "code",
   "execution_count": null,
   "id": "86aa9ac1-8566-4b7a-8d87-945c4ea7bea8",
   "metadata": {},
   "outputs": [],
   "source": []
  },
  {
   "cell_type": "code",
   "execution_count": null,
   "id": "2322c98b-f091-460e-a5e9-84a84f0e2970",
   "metadata": {},
   "outputs": [],
   "source": []
  }
 ],
 "metadata": {
  "kernelspec": {
   "display_name": "Python 3 (ipykernel)",
   "language": "python",
   "name": "python3"
  },
  "language_info": {
   "codemirror_mode": {
    "name": "ipython",
    "version": 3
   },
   "file_extension": ".py",
   "mimetype": "text/x-python",
   "name": "python",
   "nbconvert_exporter": "python",
   "pygments_lexer": "ipython3",
   "version": "3.12.4"
  }
 },
 "nbformat": 4,
 "nbformat_minor": 5
}
