{
 "cells": [
  {
   "cell_type": "code",
   "execution_count": 1,
   "id": "20e91cc6-b60a-435b-ac23-7e90cf2d3c9e",
   "metadata": {},
   "outputs": [
    {
     "name": "stdout",
     "output_type": "stream",
     "text": [
      "Solved Sudoku:\n",
      "[[4 8 3 9 2 1 6 5 7]\n",
      " [9 6 7 3 4 5 8 2 1]\n",
      " [2 5 1 8 7 6 4 9 3]\n",
      " [5 4 8 1 3 2 9 7 6]\n",
      " [7 2 9 5 6 4 1 3 8]\n",
      " [1 3 6 7 9 8 2 4 5]\n",
      " [3 7 2 6 8 9 5 1 4]\n",
      " [8 1 4 2 5 3 7 6 9]\n",
      " [6 9 5 4 1 7 3 8 2]]\n"
     ]
    }
   ],
   "source": [
    "import numpy as np\n",
    "\n",
    "# Function to check if a number can be placed in a given cell\n",
    "def is_valid(board, row, col, num):\n",
    "    # Check row\n",
    "    if num in board[row]:\n",
    "        return False\n",
    "    \n",
    "    # Check column\n",
    "    if num in board[:, col]:\n",
    "        return False\n",
    "    \n",
    "    # Check 3x3 box\n",
    "    start_row, start_col = 3 * (row // 3), 3 * (col // 3)\n",
    "    if num in board[start_row:start_row+3, start_col:start_col+3]:\n",
    "        return False\n",
    "    \n",
    "    return True\n",
    "\n",
    "# Backtracking function to solve Sudoku\n",
    "def solve_sudoku(board):\n",
    "    empty_cells = [(r, c) for r in range(9) for c in range(9) if board[r, c] == 0]\n",
    "    \n",
    "    def backtrack(index):\n",
    "        if index == len(empty_cells):\n",
    "            return True  # Solution found\n",
    "        \n",
    "        row, col = empty_cells[index]\n",
    "        for num in range(1, 10):\n",
    "            if is_valid(board, row, col, num):\n",
    "                board[row, col] = num\n",
    "                if backtrack(index + 1):\n",
    "                    return True\n",
    "                board[row, col] = 0  # Undo assignment\n",
    "        \n",
    "        return False\n",
    "    \n",
    "    backtrack(0)\n",
    "    return board\n",
    "\n",
    "# Example Sudoku puzzle (0 represents empty cells)\n",
    "sudoku_puzzle = np.array([\n",
    "    [0, 0, 3, 0, 2, 0, 6, 0, 0],\n",
    "    [9, 0, 0, 3, 0, 5, 0, 0, 1],\n",
    "    [0, 0, 1, 8, 0, 6, 4, 0, 0],\n",
    "    [0, 0, 8, 1, 0, 2, 9, 0, 0],\n",
    "    [7, 0, 0, 0, 0, 0, 0, 0, 8],\n",
    "    [0, 0, 6, 7, 0, 8, 2, 0, 0],\n",
    "    [0, 0, 2, 6, 0, 9, 5, 0, 0],\n",
    "    [8, 0, 0, 2, 0, 3, 0, 0, 9],\n",
    "    [0, 0, 5, 0, 1, 0, 3, 0, 0]\n",
    "])\n",
    "\n",
    "# Solve the puzzle\n",
    "solved_board = solve_sudoku(sudoku_puzzle)\n",
    "print(\"Solved Sudoku:\")\n",
    "print(solved_board)\n"
   ]
  },
  {
   "cell_type": "code",
   "execution_count": 5,
   "id": "a6ec1a6e-b1ed-40d1-855f-cea25f399fd5",
   "metadata": {},
   "outputs": [
    {
     "name": "stdout",
     "output_type": "stream",
     "text": [
      "Solution Found:\n",
      "Q - - - - - - -\n",
      "- - - - Q - - -\n",
      "- - - - - - - Q\n",
      "- - - - - Q - -\n",
      "- - Q - - - - -\n",
      "- - - - - - Q -\n",
      "- Q - - - - - -\n",
      "- - - Q - - - -\n"
     ]
    }
   ],
   "source": [
    "import numpy as np\n",
    "\n",
    "def is_safe(board, row, col, n):\n",
    "    # Check column\n",
    "    for i in range(row):\n",
    "        if board[i] == col or \\\n",
    "           board[i] - i == col - row or \\\n",
    "           board[i] + i == col + row:\n",
    "            return False\n",
    "    return True\n",
    "\n",
    "def solve_n_queens(n, row=0, board=None):\n",
    "    if board is None:\n",
    "        board = [-1] * n  # Track column position of queens\n",
    "    \n",
    "    if row == n:\n",
    "        return board  # Solution found\n",
    "    \n",
    "    for col in range(n):\n",
    "        if is_safe(board, row, col, n):\n",
    "            board[row] = col\n",
    "            result = solve_n_queens(n, row + 1, board)\n",
    "            if result:\n",
    "                return result  # Propagate solution upwards\n",
    "            board[row] = -1  # Backtrack\n",
    "    \n",
    "    return None  # No solution found\n",
    "\n",
    "# Run the algorithm and print the solution\n",
    "solution = solve_n_queens(8)\n",
    "if solution:\n",
    "    print(\"Solution Found:\")\n",
    "    for r in range(8):\n",
    "        row_str = [\"Q\" if solution[r] == c else \"-\" for c in range(8)]\n",
    "        print(\" \".join(row_str))\n",
    "else:\n",
    "    print(\"No solution found.\")\n"
   ]
  },
  {
   "cell_type": "code",
   "execution_count": null,
   "id": "76935344-5da7-4f52-a773-b59fb2e3694a",
   "metadata": {},
   "outputs": [],
   "source": []
  }
 ],
 "metadata": {
  "kernelspec": {
   "display_name": "Python 3 (ipykernel)",
   "language": "python",
   "name": "python3"
  },
  "language_info": {
   "codemirror_mode": {
    "name": "ipython",
    "version": 3
   },
   "file_extension": ".py",
   "mimetype": "text/x-python",
   "name": "python",
   "nbconvert_exporter": "python",
   "pygments_lexer": "ipython3",
   "version": "3.12.4"
  }
 },
 "nbformat": 4,
 "nbformat_minor": 5
}
