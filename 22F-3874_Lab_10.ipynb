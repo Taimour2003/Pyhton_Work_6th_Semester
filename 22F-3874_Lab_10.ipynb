{
 "cells": [
  {
   "cell_type": "code",
   "execution_count": null,
   "id": "4f7cee43-3fdc-47b9-9b45-0433b6319c80",
   "metadata": {},
   "outputs": [],
   "source": [
    "task1:A"
   ]
  },
  {
   "cell_type": "code",
   "execution_count": 1,
   "id": "071e7915-644a-4e5c-bae2-b303090a0a68",
   "metadata": {},
   "outputs": [
    {
     "name": "stdout",
     "output_type": "stream",
     "text": [
      "P     Q     ¬P    P ∧ Q   P ∨ Q   P ⇒ Q   P ⇔ Q   \n",
      "False False True  False   False   True    True    \n",
      "False True  True  False   True    True    False   \n",
      "True  False False False   True    False   False   \n",
      "True  True  False True    True    True    True    \n"
     ]
    }
   ],
   "source": [
    "# Define the possible truth values for P and Q\n",
    "values = [False, True]\n",
    "\n",
    "# Print the header\n",
    "print(f\"{'P':<6}{'Q':<6}{'¬P':<6}{'P ∧ Q':<8}{'P ∨ Q':<8}{'P ⇒ Q':<8}{'P ⇔ Q':<8}\")\n",
    "\n",
    "# Loop over all combinations of truth values\n",
    "for P in values:\n",
    "    for Q in values:\n",
    "        not_P = not P\n",
    "        P_and_Q = P and Q\n",
    "        P_or_Q = P or Q\n",
    "        P_implies_Q = (not P) or Q\n",
    "        P_iff_Q = P == Q\n",
    "\n",
    "        # Print the row\n",
    "        print(f\"{str(P):<6}{str(Q):<6}{str(not_P):<6}{str(P_and_Q):<8}{str(P_or_Q):<8}{str(P_implies_Q):<8}{str(P_iff_Q):<8}\")\n"
   ]
  },
  {
   "cell_type": "code",
   "execution_count": 2,
   "id": "6d7fa879-93fa-4e16-824d-a0b4f54a827a",
   "metadata": {},
   "outputs": [
    {
     "name": "stdout",
     "output_type": "stream",
     "text": [
      "P     Q     P>>Q    \n",
      "False False True    \n",
      "False True  True    \n",
      "True  False False   \n",
      "True  True  True    \n"
     ]
    }
   ],
   "source": [
    "from itertools import product\n",
    "\n",
    "# Logical operations\n",
    "def evaluate(operation, P, Q=None):\n",
    "    if operation == \"¬P\":\n",
    "        return not P\n",
    "    elif operation == \"P∧Q\":\n",
    "        return P and Q\n",
    "    elif operation == \"P∨Q\":\n",
    "        return P or Q\n",
    "    elif operation == \"P>>Q\":\n",
    "        return (not P) or Q  # Implication\n",
    "    elif operation == \"P<=>Q\":\n",
    "        return P == Q        # Biconditional\n",
    "    else:\n",
    "        return \"Invalid\"\n",
    "\n",
    "# Truth table generator\n",
    "def truth_table(operation):\n",
    "    if operation == \"¬P\":\n",
    "        print(f\"{'P':<6}{operation:<6}\")\n",
    "        for P in [False, True]:\n",
    "            result = evaluate(operation, P)\n",
    "            print(f\"{str(P):<6}{str(result):<6}\")\n",
    "    else:\n",
    "        print(f\"{'P':<6}{'Q':<6}{operation:<8}\")\n",
    "        for P, Q in product([False, True], repeat=2):\n",
    "            result = evaluate(operation, P, Q)\n",
    "            print(f\"{str(P):<6}{str(Q):<6}{str(result):<8}\")\n",
    "\n",
    "# Example usage\n",
    "truth_table(\"P>>Q\")"
   ]
  },
  {
   "cell_type": "code",
   "execution_count": null,
   "id": "3043a965-9521-4478-9a2d-207c3c3a5547",
   "metadata": {},
   "outputs": [],
   "source": [
    "Task_2"
   ]
  },
  {
   "cell_type": "code",
   "execution_count": 3,
   "id": "19447250-dec3-4f1d-b57a-dd2a23770f68",
   "metadata": {},
   "outputs": [
    {
     "name": "stdout",
     "output_type": "stream",
     "text": [
      "Example 1: Modus Tollens\n",
      "Conclusion (I am not sleepy): False\n",
      "\n",
      "Example 2: Disjunctive Syllogism\n",
      "Conclusion (Today is Monday): True\n",
      "\n",
      "Example 3: Addition Rule\n",
      "Conclusion (I have vanilla or chocolate ice-cream): True\n"
     ]
    }
   ],
   "source": [
    "# Inference Rule Examples\n",
    "\n",
    "print(\"Example 1: Modus Tollens\")\n",
    "# Statement-1: P → Q\n",
    "# Statement-2: ¬Q\n",
    "# Conclusion: ¬P\n",
    "P = True   # I am sleepy\n",
    "Q = False  # I do not go to bed\n",
    "if (P and not Q):\n",
    "    conclusion = not P\n",
    "else:\n",
    "    conclusion = \"Cannot infer\"\n",
    "print(\"Conclusion (I am not sleepy):\", conclusion)\n",
    "\n",
    "\n",
    "print(\"\\nExample 2: Disjunctive Syllogism\")\n",
    "# Statement-1: P ∨ Q\n",
    "# Statement-2: ¬P\n",
    "# Conclusion: Q\n",
    "P = False  # Today is not Sunday\n",
    "Q = True   # Today is Monday\n",
    "if (P or Q) and not P:\n",
    "    conclusion = Q\n",
    "else:\n",
    "    conclusion = \"Cannot infer\"\n",
    "print(\"Conclusion (Today is Monday):\", conclusion)\n",
    "\n",
    "\n",
    "print(\"\\nExample 3: Addition Rule\")\n",
    "# Statement-1: P\n",
    "# Statement-2: Q\n",
    "# Conclusion: P ∨ Q\n",
    "P = True   # I have vanilla\n",
    "Q = True   # I have chocolate\n",
    "conclusion = P or Q\n",
    "print(\"Conclusion (I have vanilla or chocolate ice-cream):\", conclusion)\n"
   ]
  },
  {
   "cell_type": "code",
   "execution_count": null,
   "id": "e913819e-a3fe-4f98-99c0-2985f583a482",
   "metadata": {},
   "outputs": [],
   "source": []
  }
 ],
 "metadata": {
  "kernelspec": {
   "display_name": "Python 3 (ipykernel)",
   "language": "python",
   "name": "python3"
  },
  "language_info": {
   "codemirror_mode": {
    "name": "ipython",
    "version": 3
   },
   "file_extension": ".py",
   "mimetype": "text/x-python",
   "name": "python",
   "nbconvert_exporter": "python",
   "pygments_lexer": "ipython3",
   "version": "3.12.4"
  }
 },
 "nbformat": 4,
 "nbformat_minor": 5
}
