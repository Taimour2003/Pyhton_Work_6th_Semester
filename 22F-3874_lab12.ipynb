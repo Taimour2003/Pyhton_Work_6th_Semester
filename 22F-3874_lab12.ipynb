{
 "cells": [
  {
   "cell_type": "markdown",
   "metadata": {},
   "source": [
    "<div>\n",
    "    <h2 align=\"center\"><font color=\"blue\"> Artificial Intelligence Lab 11 – Tasks </font></h2> \n",
    "    <h4 align=\"center\"> Propositional Logic (PL) and First-Order Logic (FoL) - II (PL) </h4>\n",
    "    <h5 align=\"center\"> Ahmad Ali Tabassam, Lecturer (CS) </h5>\n",
    "    <h5 align=\"center\"> FAST School of Computing, Chiniot-Faisalabad Campus </h5>\n",
    "</div>"
   ]
  },
  {
   "cell_type": "markdown",
   "metadata": {},
   "source": [
    "## Instructor Note\n",
    "As pre-lab activity, read Chapter 7 and Chapter 8, from the Textbook (Artificial Intelligence: A Modern Approach, 4th Ed, S. Russell and P. Norvig) to know the basics of search algorithms."
   ]
  },
  {
   "cell_type": "markdown",
   "metadata": {},
   "source": [
    "## Task 1: Wumpus World (Knowledge base and Inference Procedure)"
   ]
  },
  {
   "cell_type": "code",
   "execution_count": 38,
   "metadata": {},
   "outputs": [
    {
     "name": "stdout",
     "output_type": "stream",
     "text": [
      "P11 entailed?          False\n",
      "¬P11 entailed?         True\n",
      "tt_entails(~P11) =    True\n",
      "B21 entailed?          True\n",
      "tt_entails(B21) =     True\n"
     ]
    }
   ],
   "source": [
    "from logic import PropKB, expr, tt_entails\n",
    "from functools import reduce\n",
    "\n",
    "# 1) Build the KB exactly as before\n",
    "kb = PropKB()\n",
    "kb.tell(expr('~P11'))\n",
    "kb.tell(expr('B11 <=> (P12 | P21)'))\n",
    "kb.tell(expr('B21 <=> (P11 | P22 | P31)'))\n",
    "kb.tell(expr('~B11'))\n",
    "kb.tell(expr('B21'))\n",
    "\n",
    "# 2) Conjoin all clauses into one Expr for tt_entails\n",
    "KB_expr = reduce(lambda a, b: a & b, kb.clauses)\n",
    "\n",
    "# 3) Check “Is there a pit at [1,1]?”  i.e.  P11\n",
    "print(\"P11 entailed?         \", kb.ask_if_true(expr('P11')))        # False\n",
    "print(\"¬P11 entailed?        \", kb.ask_if_true(expr('~P11')))       # True\n",
    "print(\"tt_entails(~P11) =   \", tt_entails(KB_expr, expr('~P11')))   # True\n",
    "\n",
    "# 4) Check “Is there a breeze at [2,1]?”  i.e.  B21\n",
    "print(\"B21 entailed?         \", kb.ask_if_true(expr('B21')))        # True\n",
    "print(\"tt_entails(B21) =    \", tt_entails(KB_expr, expr('B21')))    # True\n"
   ]
  },
  {
   "cell_type": "markdown",
   "metadata": {},
   "source": [
    "## Task 2: Propositional Logic"
   ]
  },
  {
   "cell_type": "code",
   "execution_count": 24,
   "metadata": {},
   "outputs": [
    {
     "name": "stdout",
     "output_type": "stream",
     "text": [
      "True\n",
      "True\n",
      "False\n",
      "True\n"
     ]
    }
   ],
   "source": [
    "def is_car_issue_valid(car_wont_start, battery_dead, no_fuel):\n",
    "    # S → (B ∨ F) is logically equivalent to: not S or (B or F)\n",
    "    return not car_wont_start or (battery_dead or no_fuel)\n",
    "\n",
    "# Sample Test Cases\n",
    "print(is_car_issue_valid(True, True, False))   # True\n",
    "print(is_car_issue_valid(True, False, True))   # True\n",
    "print(is_car_issue_valid(True, False, False))  # False\n",
    "print(is_car_issue_valid(False, False, False)) # True (S is False)\n"
   ]
  },
  {
   "cell_type": "markdown",
   "metadata": {},
   "source": [
    "## Task 3: First-order Logic"
   ]
  },
  {
   "cell_type": "code",
   "execution_count": 61,
   "metadata": {},
   "outputs": [
    {
     "name": "stdout",
     "output_type": "stream",
     "text": [
      "True\n",
      "False\n",
      "False\n"
     ]
    }
   ],
   "source": [
    "class Human:\n",
    "    def __init__(self, name):\n",
    "        self.name = name\n",
    "    \n",
    "    def is_mortal(self):\n",
    "        return True  # All humans are mortal\n",
    "\n",
    "def all_humans_mortal(humans):\n",
    "    for human in humans:\n",
    "        if not isinstance(human, Human):\n",
    "            return False  # Invalid input, not a Human object\n",
    "        if not human.is_mortal():\n",
    "            return False  # Human is not mortal (theoretically)\n",
    "    return True\n",
    "\n",
    "# Valid test\n",
    "humans = [Human(\"Socrates\"), Human(\"Ada\"), Human(\"Turing\")]\n",
    "print(all_humans_mortal(humans))  # True\n",
    "\n",
    "# Invalid test with a string instead of Human object\n",
    "name = [\"Jamal\"]\n",
    "print(all_humans_mortal(name))  # False\n",
    "\n",
    "# Mixed list (should also return False)\n",
    "mixed = [Human(\"Ali\"), \"NotHuman\"]\n",
    "print(all_humans_mortal(mixed))  # False\n"
   ]
  },
  {
   "cell_type": "code",
   "execution_count": null,
   "metadata": {},
   "outputs": [],
   "source": []
  },
  {
   "cell_type": "code",
   "execution_count": null,
   "metadata": {},
   "outputs": [],
   "source": []
  }
 ],
 "metadata": {
  "interpreter": {
   "hash": "db4280cfac26d1f17ba08bcc8b51b906ec3585d94092157597b7da58b570ab73"
  },
  "kernelspec": {
   "display_name": "Python 3 (ipykernel)",
   "language": "python",
   "name": "python3"
  },
  "language_info": {
   "codemirror_mode": {
    "name": "ipython",
    "version": 3
   },
   "file_extension": ".py",
   "mimetype": "text/x-python",
   "name": "python",
   "nbconvert_exporter": "python",
   "pygments_lexer": "ipython3",
   "version": "3.12.4"
  }
 },
 "nbformat": 4,
 "nbformat_minor": 4
}
