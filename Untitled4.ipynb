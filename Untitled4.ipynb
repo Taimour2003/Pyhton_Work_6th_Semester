{
 "cells": [
  {
   "cell_type": "code",
   "execution_count": 6,
   "id": "b95b9954-b9a8-4bd3-86fd-061608bb4d8f",
   "metadata": {},
   "outputs": [
    {
     "name": "stdout",
     "output_type": "stream",
     "text": [
      "Name: Taimour\n",
      "Roll No: BCS123\n",
      "CGPA: 3.8\n",
      "Invalid CGPA. Must be between 0.0 and 4.0.\n",
      "\n",
      "Updated Name: Taimour Tariq\n",
      "Updated CGPA: 3.9\n",
      "Name: Taimour Tariq\n",
      "Roll No: BCS123\n",
      "CGPA: 3.9\n"
     ]
    }
   ],
   "source": [
    "class Student:\n",
    "    def __init__(self, name, roll_no, cgpa):\n",
    "        self._name = name           # underscore means \"protected\"\n",
    "        self._roll_no = roll_no\n",
    "        self.cgpa = cgpa\n",
    "\n",
    "    # Getter for name\n",
    "    def get_name(self):\n",
    "        return self._name\n",
    "\n",
    "    # Setter for name\n",
    "    def set_name(self, name):\n",
    "        if isinstance(name, str) and len(name) > 0:\n",
    "            self._name = name\n",
    "        else:\n",
    "            print(\"Invalid name provided.\")\n",
    "\n",
    "    # Getter for roll number\n",
    "    def get_roll_no(self):\n",
    "        return self._roll_no\n",
    "\n",
    "    # Setter for roll number\n",
    "    def set_roll_no(self, roll_no):\n",
    "        self._roll_no = roll_no\n",
    "\n",
    "    # Getter for CGPA\n",
    "    @property\n",
    "    def cgpa(self):\n",
    "        return self._cgpa\n",
    "\n",
    "    # Setter for CGPA with validation\n",
    "    @cgpa.setter\n",
    "    def cgpa(self, cgpa):\n",
    "        if 0.0 <= cgpa <= 4.0:\n",
    "            self._cgpa = cgpa\n",
    "        else:\n",
    "            print(\"Invalid CGPA. Must be between 0.0 and 4.0.\")\n",
    "\n",
    "    # Display function\n",
    "    def display_info(self):\n",
    "        print(f\"Name: {self.get_name()}\")\n",
    "        print(f\"Roll No: {self.get_roll_no()}\")\n",
    "        print(f\"CGPA: {self.cgpa}\")\n",
    "\n",
    "\n",
    "s1 = Student(\"Taimour\", \"BCS123\", 3.8)\n",
    "\n",
    "# Accessing data\n",
    "s1.display_info()\n",
    "\n",
    "# Using setters\n",
    "s1.set_name(\"Taimour Tariq\")\n",
    "s1.cgpa=4.1  # Invalid input\n",
    "s1.cgpa=3.9\n",
    "\n",
    "# Using getters\n",
    "print(\"\\nUpdated Name:\", s1.get_name())\n",
    "print(\"Updated CGPA:\", s1.cgpa)\n",
    "\n",
    "# Final info\n",
    "s1.display_info()\n"
   ]
  },
  {
   "cell_type": "code",
   "execution_count": null,
   "id": "3bb4ae98-d0f5-4e1e-a305-ac19aa797f64",
   "metadata": {},
   "outputs": [],
   "source": []
  }
 ],
 "metadata": {
  "kernelspec": {
   "display_name": "Python 3 (ipykernel)",
   "language": "python",
   "name": "python3"
  },
  "language_info": {
   "codemirror_mode": {
    "name": "ipython",
    "version": 3
   },
   "file_extension": ".py",
   "mimetype": "text/x-python",
   "name": "python",
   "nbconvert_exporter": "python",
   "pygments_lexer": "ipython3",
   "version": "3.12.4"
  }
 },
 "nbformat": 4,
 "nbformat_minor": 5
}
