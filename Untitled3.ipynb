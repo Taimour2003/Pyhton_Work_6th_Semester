{
 "cells": [
  {
   "cell_type": "code",
   "execution_count": 1,
   "id": "b7713b89-fe7b-459b-a015-81c84e440535",
   "metadata": {},
   "outputs": [
    {
     "name": "stdout",
     "output_type": "stream",
     "text": [
      "[4, 8, 3, 9, 2, 1, 6, 5, 7]\n",
      "[9, 6, 7, 3, 4, 5, 8, 2, 1]\n",
      "[2, 5, 1, 8, 7, 6, 4, 9, 3]\n",
      "[5, 4, 8, 1, 3, 2, 9, 7, 6]\n",
      "[7, 2, 9, 5, 6, 4, 1, 3, 8]\n",
      "[1, 3, 6, 7, 9, 8, 2, 4, 5]\n",
      "[3, 7, 2, 6, 8, 9, 5, 1, 4]\n",
      "[8, 1, 4, 2, 5, 3, 7, 6, 9]\n",
      "[6, 9, 5, 4, 1, 7, 3, 8, 2]\n"
     ]
    }
   ],
   "source": [
    "from copy import deepcopy\n",
    "\n",
    "def peers(r, c):\n",
    "    box = [(i, j) for i in range(3*(r//3), 3*(r//3)+3) for j in range(3*(c//3), 3*(c//3)+3)]\n",
    "    row = [(r, j) for j in range(9)]\n",
    "    col = [(i, c) for i in range(9)]\n",
    "    return set(row + col + box) - {(r, c)}\n",
    "\n",
    "def init_domains(board):\n",
    "    return {\n",
    "        (r, c): [board[r][c]] if board[r][c] != 0 else list(range(1, 10))\n",
    "        for r in range(9) for c in range(9)\n",
    "    }\n",
    "\n",
    "def is_valid(val, pos, assignment):\n",
    "    return all(assignment.get(p) != val for p in peers(*pos))\n",
    "\n",
    "def forward_check(var, val, domains):\n",
    "    temp = deepcopy(domains)\n",
    "    for p in peers(*var):\n",
    "        if val in temp.get(p, []):\n",
    "            temp[p].remove(val)\n",
    "            if not temp[p]:\n",
    "                return None\n",
    "    return temp\n",
    "\n",
    "def select_var(domains, assignment):\n",
    "    unassigned = [v for v in domains if v not in assignment]\n",
    "    return min(unassigned, key=lambda v: len(domains[v]))\n",
    "\n",
    "def backtrack(assignment, domains):\n",
    "    if len(assignment) == 81:\n",
    "        return assignment\n",
    "    var = select_var(domains, assignment)\n",
    "    for val in domains[var]:\n",
    "        if is_valid(val, var, assignment):\n",
    "            assignment[var] = val\n",
    "            new_domains = forward_check(var, val, domains)\n",
    "            if new_domains:\n",
    "                result = backtrack(assignment, new_domains)\n",
    "                if result:\n",
    "                    return result\n",
    "            del assignment[var]\n",
    "    return None\n",
    "\n",
    "def solve_sudoku(board):\n",
    "    domains = init_domains(board)\n",
    "    assignment = { (r, c): board[r][c] for r in range(9) for c in range(9) if board[r][c] != 0 }\n",
    "    result = backtrack(assignment, domains)\n",
    "    if result:\n",
    "        for (r, c), val in result.items():\n",
    "            board[r][c] = val\n",
    "        return board\n",
    "    return None\n",
    "\n",
    "\n",
    "puzzle = [\n",
    "    [0, 0, 3, 0, 2, 0, 6, 0, 0],\n",
    "    [9, 0, 0, 3, 0, 5, 0, 0, 1],\n",
    "    [0, 0, 1, 8, 0, 6, 4, 0, 0],\n",
    "    [0, 0, 8, 1, 0, 2, 9, 0, 0],\n",
    "    [7, 0, 0, 0, 0, 0, 0, 0, 8],\n",
    "    [0, 0, 6, 7, 0, 8, 2, 0, 0],\n",
    "    [0, 0, 2, 6, 0, 9, 5, 0, 0],\n",
    "    [8, 0, 0, 2, 0, 3, 0, 0, 9],\n",
    "    [0, 0, 5, 0, 1, 0, 3, 0, 0]\n",
    "]\n",
    "\n",
    "solved = solve_sudoku(puzzle)\n",
    "for row in solved:\n",
    "    print(row)\n"
   ]
  },
  {
   "cell_type": "code",
   "execution_count": null,
   "id": "b3be1be8-9bcd-4f49-badd-4a3ce69d3b6c",
   "metadata": {},
   "outputs": [],
   "source": []
  }
 ],
 "metadata": {
  "kernelspec": {
   "display_name": "Python 3 (ipykernel)",
   "language": "python",
   "name": "python3"
  },
  "language_info": {
   "codemirror_mode": {
    "name": "ipython",
    "version": 3
   },
   "file_extension": ".py",
   "mimetype": "text/x-python",
   "name": "python",
   "nbconvert_exporter": "python",
   "pygments_lexer": "ipython3",
   "version": "3.12.4"
  }
 },
 "nbformat": 4,
 "nbformat_minor": 5
}
